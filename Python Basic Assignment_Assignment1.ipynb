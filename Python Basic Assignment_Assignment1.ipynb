{
 "cells": [
  {
   "cell_type": "markdown",
   "id": "f7c187eb",
   "metadata": {},
   "source": [
    "1. In the below elements which of them are values or an expression? eg:- values can be\n",
    "integer or string and expressions will be mathematical operators.\n",
    "*  \n",
    "'hello'\n",
    "-87.8\n",
    "-\n",
    "/\n",
    "+\n",
    "6\n",
    "\n",
    "Ans- Values are 'hello', -87.8, 6 and expressions are *, -, /, +"
   ]
  },
  {
   "cell_type": "markdown",
   "id": "19c1b3ef",
   "metadata": {},
   "source": [
    "2. What is the difference between string and variable?\n",
    "Ans- A string is a sequence of characters, enclosed within either single quotes (' '), double quotes (\" \"). Strings are immutable.\n",
    "Ex- my_name = \"Nitish\", \"Nitish\" is string here.\n",
    "A variable is a name that refers to a value stored in memory. It can hold different types of data, including strings, numbers, lists, etc. Variables are mutable.\n",
    "Ex- my_name = \"Nitish\", my_name is variable here."
   ]
  },
  {
   "cell_type": "markdown",
   "id": "84420bff",
   "metadata": {},
   "source": [
    "3. Describe three different data types.\n",
    "Ans- There are several built-in data types that allow us to store different kinds of data. Some of the commonly used data types include:\n",
    "\n",
    "Numeric Types:\n",
    "int: It store integer values, e.g., 5, -3, 0.\n",
    "float: It store floating-point values, e.g., 3.14, -0.001, 2.0.\n",
    "\n",
    "Boolean Type:\n",
    "bool: Boolean values represent True or False.\n",
    "\n",
    "Sequence Types:\n",
    "str: String, It is a sequence of characters, e.g., \"Nitish\", \"India\".\n",
    "list: It is ordered collection of items, mutable e.g., [1,2,3,4,5], [\"apple\", \"mango\", \"banana\"].\n",
    "tuple: It is ordered collection of items, immutable, e.g., (1, 2, 3,4,5), (\"apple\", \"mango\", \"banana\")."
   ]
  },
  {
   "cell_type": "markdown",
   "id": "eaca0140",
   "metadata": {},
   "source": [
    "4. What is an expression made up of? What do all expressions do?\n",
    "Ans- An expression is a combination of values, variables, operators, and function calls that evaluates to a single value.\n",
    "All expressions have a single value and can be evaluated to produce that value. Expressions are used extensively to perform calculations, make decisions, and manipulate data.\n",
    "\n",
    "Ex- result_exp = 2+3*4, This expression performs arithmetic operations (addition and multiplication) and assigns the result to the variable \"result_exp\"."
   ]
  },
  {
   "cell_type": "markdown",
   "id": "6a6267a6",
   "metadata": {},
   "source": [
    "5. This assignment statements, like spam = 10. What is the difference between an\n",
    "expression and a statement?\n",
    "Ans- A statement is a complete line of code that performs some action. Ex- spam = 10 here while an expression is a piece of code that produces a value when evaluated. Ex- x= 2*3, expression always return a value."
   ]
  },
  {
   "cell_type": "markdown",
   "id": "3ea47ee7",
   "metadata": {},
   "source": [
    "6. After running the following code, what does the variable bacon contain?\n",
    "bacon = 22\n",
    "bacon + 1\n",
    "Ans- The variable 'bacon' will still contain the same value '22'"
   ]
  },
  {
   "cell_type": "markdown",
   "id": "9b2eb12e",
   "metadata": {},
   "source": [
    "7. What should the values of the following two terms be?\n",
    "Ans- Same  'spam' + 'spamspam' = 'spamspamspam'\n",
    "             'spam'*3 = 'spamspamspam'"
   ]
  },
  {
   "cell_type": "markdown",
   "id": "abc3f05a",
   "metadata": {},
   "source": [
    "8. Why is eggs a valid variable name while 100 is invalid?\n",
    "Ans- In python, variable name must start with a letter (a-z, A-Z) or an underscore (_). So eggs starts with a letter and follows this rule.\n",
    "Variable names cannot start with a digit. This is why 100 is invalid as a variable name."
   ]
  },
  {
   "cell_type": "markdown",
   "id": "405d195b",
   "metadata": {},
   "source": [
    "9. What three functions can be used to get the integer, floating-point number, or string\n",
    "version of a value?\n",
    "Ans- Below three functions can be used  for value conversion.\n",
    "\n",
    "Integer Conversion Function: int()\n",
    "The int() function can be used to convert a value to an integer.\n",
    "Ex- value_int = int(5.1)  # Converts floating-point number to integer: 5\n",
    "\n",
    "Floating-Point Conversion Function: float()\n",
    "The float() function can be used to convert a value to a floating-point number.\n",
    "Ex- float_value = float(\"6.2\")  # Converts string to floating-point number: 6.2\n",
    "\n",
    "\n",
    "String Conversion Function: str()\n",
    "The str() function can be used to convert a value to a string.\n",
    "Ex- string_value = str(10)  # Converts integer to string: \"10\""
   ]
  },
  {
   "cell_type": "markdown",
   "id": "bdcef2ec",
   "metadata": {},
   "source": [
    "10. Why does this expression cause an error? How can you fix it?\n",
    "Ans- It will return TypeError, to fix this we need to do value conversion of 99 integer into string.\n",
    "Ex- 'I have eaten '+ str( 99 )+ ' burittos' is now correct."
   ]
  },
  {
   "cell_type": "code",
   "execution_count": null,
   "id": "92b41f19",
   "metadata": {},
   "outputs": [],
   "source": []
  }
 ],
 "metadata": {
  "kernelspec": {
   "display_name": "Python 3 (ipykernel)",
   "language": "python",
   "name": "python3"
  },
  "language_info": {
   "codemirror_mode": {
    "name": "ipython",
    "version": 3
   },
   "file_extension": ".py",
   "mimetype": "text/x-python",
   "name": "python",
   "nbconvert_exporter": "python",
   "pygments_lexer": "ipython3",
   "version": "3.11.5"
  }
 },
 "nbformat": 4,
 "nbformat_minor": 5
}
